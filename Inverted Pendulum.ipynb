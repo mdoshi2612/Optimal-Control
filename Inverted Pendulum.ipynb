{
 "cells": [
  {
   "cell_type": "code",
   "execution_count": 1,
   "id": "229b3c83",
   "metadata": {},
   "outputs": [],
   "source": [
    "%matplotlib inline\n",
    "from mpl_toolkits import mplot3d\n",
    "import numpy as np\n",
    "import matplotlib.pyplot as plt\n",
    "import math \n",
    "from scipy import misc"
   ]
  },
  {
   "cell_type": "code",
   "execution_count": 2,
   "id": "981c11a8",
   "metadata": {},
   "outputs": [],
   "source": [
    "K = np.array([-1.00, -1.6567, 18.6854, 3.4594])\n",
    "P = np.array([[1.55671002515707, 1.20667305121226, -3.45943817580002, -0.702669220484905],\n",
    "[1.20667305121226,1.45543614041919, -4.68267286919406,-0.946650661702234],\n",
    "[-3.45943817580002,-4.68267286919406,31.6320495422313,5.98385624609127],\n",
    "[-0.702669220484905,-0.946650661702234,5.98385624609127,1.13973666335690]])"
   ]
  },
  {
   "cell_type": "code",
   "execution_count": 3,
   "id": "9c23b4c4",
   "metadata": {
    "scrolled": true
   },
   "outputs": [
    {
     "name": "stdout",
     "output_type": "stream",
     "text": [
      "[-1.     -1.6567 18.6854  3.4594]\n"
     ]
    }
   ],
   "source": [
    "print(K)"
   ]
  },
  {
   "cell_type": "code",
   "execution_count": 4,
   "id": "38fc256c",
   "metadata": {
    "scrolled": true
   },
   "outputs": [
    {
     "name": "stdout",
     "output_type": "stream",
     "text": [
      "[[ 1.55671003  1.20667305 -3.45943818 -0.70266922]\n",
      " [ 1.20667305  1.45543614 -4.68267287 -0.94665066]\n",
      " [-3.45943818 -4.68267287 31.63204954  5.98385625]\n",
      " [-0.70266922 -0.94665066  5.98385625  1.13973666]]\n"
     ]
    }
   ],
   "source": [
    "print(P)"
   ]
  },
  {
   "cell_type": "code",
   "execution_count": 93,
   "id": "a36a249b",
   "metadata": {},
   "outputs": [],
   "source": [
    "X = np.linspace(-0.2, 0.2, 50)\n",
    "X_dot = np.linspace(-0.2, 0.2, 50)\n",
    "Theta = np.linspace(-0.2, 0.2, 50)\n",
    "Theta_dot = np.linspace(-0.6, 0.6, 50)"
   ]
  },
  {
   "cell_type": "code",
   "execution_count": 94,
   "id": "ae362c71",
   "metadata": {},
   "outputs": [],
   "source": [
    "inside_ellipse = []\n",
    "for x in X:\n",
    "    for x_dot in X_dot:\n",
    "        for theta in Theta:\n",
    "            for theta_dot in Theta_dot:\n",
    "                state = np.array([x, x_dot, theta, theta_dot])\n",
    "                if(np.matmul(np.matmul(state.T, P), state) < 0.0005):\n",
    "                    inside_ellipse.append([x, x_dot, theta, theta_dot])\n",
    "                    \n",
    "    "
   ]
  },
  {
   "cell_type": "code",
   "execution_count": 95,
   "id": "02ec6b29",
   "metadata": {},
   "outputs": [
    {
     "name": "stdout",
     "output_type": "stream",
     "text": [
      "466\n"
     ]
    }
   ],
   "source": [
    "print(len(inside_ellipse))"
   ]
  },
  {
   "cell_type": "code",
   "execution_count": 96,
   "id": "2ebc2456",
   "metadata": {},
   "outputs": [],
   "source": [
    "np_inside_ellipse = np.array(inside_ellipse)"
   ]
  },
  {
   "cell_type": "code",
   "execution_count": 97,
   "id": "7d36de23",
   "metadata": {},
   "outputs": [
    {
     "name": "stdout",
     "output_type": "stream",
     "text": [
      "[[-0.02857143  0.02857143 -0.02040816  0.11020408]\n",
      " [-0.02857143  0.02857143  0.00408163 -0.0122449 ]\n",
      " [-0.02857143  0.03673469 -0.02857143  0.15918367]\n",
      " ...\n",
      " [ 0.02857143 -0.03673469  0.02857143 -0.15918367]\n",
      " [ 0.02857143 -0.02857143 -0.00408163  0.0122449 ]\n",
      " [ 0.02857143 -0.02857143  0.02040816 -0.11020408]]\n"
     ]
    }
   ],
   "source": [
    "print(np_inside_ellipse)"
   ]
  },
  {
   "cell_type": "code",
   "execution_count": 98,
   "id": "bd62b91e",
   "metadata": {},
   "outputs": [
    {
     "name": "stdout",
     "output_type": "stream",
     "text": [
      "[-0.02857143 -0.04489796 -0.06938776 -0.37959184]\n",
      "[0.02857143 0.04489796 0.06938776 0.37959184]\n"
     ]
    }
   ],
   "source": [
    "print(np.min(np_inside_ellipse, axis = 0))\n",
    "print(np.max(np_inside_ellipse, axis = 0))"
   ]
  },
  {
   "cell_type": "code",
   "execution_count": 99,
   "id": "15246731",
   "metadata": {},
   "outputs": [
    {
     "data": {
      "image/png": "[encoded data removed]",
      "text/plain": [
       "<Figure size 432x288 with 1 Axes>"
      ]
     },
     "metadata": {
      "needs_background": "light"
     },
     "output_type": "display_data"
    }
   ],
   "source": [
    "fig = plt.figure()\n",
    "# Set the figure size\n",
    "plt.rcParams[\"figure.autolayout\"] = True\n",
    "\n",
    "# Random data of 100×3 dimension\n",
    "\n",
    "# Scatter plot\n",
    "plt.scatter(np_inside_ellipse[:, 0], np_inside_ellipse[:, 1])\n",
    "plt.xlim([-0.05, 0.05])\n",
    "# Display the plot\n",
    "plt.show()"
   ]
  },
  {
   "cell_type": "code",
   "execution_count": null,
   "id": "a593ce52",
   "metadata": {},
   "outputs": [],
   "source": []
  }
 ],
 "metadata": {
  "kernelspec": {
   "display_name": "Python 3 (ipykernel)",
   "language": "python",
   "name": "python3"
  },
  "language_info": {
   "codemirror_mode": {
    "name": "ipython",
    "version": 3
   },
   "file_extension": ".py",
   "mimetype": "text/x-python",
   "name": "python",
   "nbconvert_exporter": "python",
   "pygments_lexer": "ipython3",
   "version": "3.9.12"
  }
 },
 "nbformat": 4,
 "nbformat_minor": 5
}
