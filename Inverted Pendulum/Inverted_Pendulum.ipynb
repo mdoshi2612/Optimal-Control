{
  "cells": [
    {
      "cell_type": "code",
      "execution_count": 25,
      "id": "229b3c83",
      "metadata": {
        "id": "229b3c83"
      },
      "outputs": [],
      "source": [
        "%matplotlib inline\n",
        "from mpl_toolkits import mplot3d\n",
        "import numpy as np\n",
        "import matplotlib.pyplot as plt\n",
        "import math \n",
        "from scipy import misc"
      ]
    },
    {
      "cell_type": "code",
      "execution_count": 26,
      "id": "981c11a8",
      "metadata": {
        "id": "981c11a8"
      },
      "outputs": [],
      "source": [
        "K = np.array([-1.00, -1.6567, 18.6854, 3.4594]).reshape((4,1))\n",
        "P = np.array([[1.55671002515707, 1.20667305121226, -3.45943817580002, -0.702669220484905],\n",
        "[1.20667305121226,1.45543614041919, -4.68267286919406,-0.946650661702234],\n",
        "[-3.45943817580002,-4.68267286919406,31.6320495422313,5.98385624609127],\n",
        "[-0.702669220484905,-0.946650661702234,5.98385624609127,1.13973666335690]])"
      ]
    },
    {
      "cell_type": "code",
      "execution_count": 27,
      "id": "9c23b4c4",
      "metadata": {
        "scrolled": true,
        "colab": {
          "base_uri": "https://localhost:8080/"
        },
        "id": "9c23b4c4",
        "outputId": "c39c9d4c-90ed-41bf-82fa-bc148979d283"
      },
      "outputs": [
        {
          "output_type": "stream",
          "name": "stdout",
          "text": [
            "[[-1.    ]\n",
            " [-1.6567]\n",
            " [18.6854]\n",
            " [ 3.4594]]\n"
          ]
        }
      ],
      "source": [
        "print(K)"
      ]
    },
    {
      "cell_type": "code",
      "execution_count": 28,
      "id": "38fc256c",
      "metadata": {
        "scrolled": true,
        "colab": {
          "base_uri": "https://localhost:8080/"
        },
        "id": "38fc256c",
        "outputId": "80c6c9bd-d8d0-4bb5-d504-9bca01bc6235"
      },
      "outputs": [
        {
          "output_type": "stream",
          "name": "stdout",
          "text": [
            "[[ 1.55671003  1.20667305 -3.45943818 -0.70266922]\n",
            " [ 1.20667305  1.45543614 -4.68267287 -0.94665066]\n",
            " [-3.45943818 -4.68267287 31.63204954  5.98385625]\n",
            " [-0.70266922 -0.94665066  5.98385625  1.13973666]]\n"
          ]
        }
      ],
      "source": [
        "print(P)"
      ]
    },
    {
      "cell_type": "code",
      "execution_count": 29,
      "id": "a36a249b",
      "metadata": {
        "id": "a36a249b"
      },
      "outputs": [],
      "source": [
        "X = np.linspace(-0.2, 0.2, 50)\n",
        "X_dot = np.linspace(-0.2, 0.2, 50)\n",
        "Theta = np.linspace(-0.2, 0.2, 50)\n",
        "Theta_dot = np.linspace(-0.6, 0.6, 50)"
      ]
    },
    {
      "cell_type": "code",
      "execution_count": 30,
      "id": "ae362c71",
      "metadata": {
        "id": "ae362c71"
      },
      "outputs": [],
      "source": [
        "inside_ellipse = []\n",
        "for x in X:\n",
        "    for x_dot in X_dot:\n",
        "        for theta in Theta:\n",
        "            for theta_dot in Theta_dot:\n",
        "                state = np.array([x, x_dot, theta, theta_dot])\n",
        "                if(np.matmul(np.matmul(state.T, P), state) < 0.0005):\n",
        "                    inside_ellipse.append([x, x_dot, theta, theta_dot])\n",
        "                    \n",
        "    "
      ]
    },
    {
      "cell_type": "code",
      "execution_count": 31,
      "id": "02ec6b29",
      "metadata": {
        "colab": {
          "base_uri": "https://localhost:8080/"
        },
        "id": "02ec6b29",
        "outputId": "5f34b879-50b5-43d7-993e-bfbfd2e57b57"
      },
      "outputs": [
        {
          "output_type": "stream",
          "name": "stdout",
          "text": [
            "466\n"
          ]
        }
      ],
      "source": [
        "print(len(inside_ellipse))"
      ]
    },
    {
      "cell_type": "code",
      "execution_count": 32,
      "id": "2ebc2456",
      "metadata": {
        "id": "2ebc2456"
      },
      "outputs": [],
      "source": [
        "np_inside_ellipse = np.array(inside_ellipse)"
      ]
    },
    {
      "cell_type": "code",
      "execution_count": 33,
      "id": "7d36de23",
      "metadata": {
        "colab": {
          "base_uri": "https://localhost:8080/"
        },
        "id": "7d36de23",
        "outputId": "39943e85-bf88-428d-870f-db373fe3c94d"
      },
      "outputs": [
        {
          "output_type": "stream",
          "name": "stdout",
          "text": [
            "[[-0.02857143  0.02857143 -0.02040816  0.11020408]\n",
            " [-0.02857143  0.02857143  0.00408163 -0.0122449 ]\n",
            " [-0.02857143  0.03673469 -0.02857143  0.15918367]\n",
            " ...\n",
            " [ 0.02857143 -0.03673469  0.02857143 -0.15918367]\n",
            " [ 0.02857143 -0.02857143 -0.00408163  0.0122449 ]\n",
            " [ 0.02857143 -0.02857143  0.02040816 -0.11020408]]\n"
          ]
        }
      ],
      "source": [
        "print(np_inside_ellipse)"
      ]
    },
    {
      "cell_type": "code",
      "execution_count": 34,
      "id": "bd62b91e",
      "metadata": {
        "colab": {
          "base_uri": "https://localhost:8080/"
        },
        "id": "bd62b91e",
        "outputId": "cd801ba8-439c-45dd-db4c-0c0664f85728"
      },
      "outputs": [
        {
          "output_type": "stream",
          "name": "stdout",
          "text": [
            "[-0.02857143 -0.04489796 -0.06938776 -0.37959184]\n",
            "[0.02857143 0.04489796 0.06938776 0.37959184]\n"
          ]
        }
      ],
      "source": [
        "print(np.min(np_inside_ellipse, axis = 0))\n",
        "print(np.max(np_inside_ellipse, axis = 0))"
      ]
    },
    {
      "cell_type": "code",
      "execution_count": 35,
      "id": "15246731",
      "metadata": {
        "colab": {
          "base_uri": "https://localhost:8080/",
          "height": 297
        },
        "id": "15246731",
        "outputId": "af389f87-1718-4903-8074-c5d618939d0a"
      },
      "outputs": [
        {
          "output_type": "display_data",
          "data": {
            "text/plain": [
              "<Figure size 432x288 with 1 Axes>"
            ],
            "image/png": "[encoded data removed]"
          },
          "metadata": {
            "needs_background": "light"
          }
        }
      ],
      "source": [
        "fig = plt.figure()\n",
        "# Set the figure size\n",
        "plt.rcParams[\"figure.autolayout\"] = True\n",
        "\n",
        "# Random data of 100×3 dimension\n",
        "\n",
        "# Scatter plot\n",
        "plt.scatter(np_inside_ellipse[:, 0], np_inside_ellipse[:, 1])\n",
        "plt.xlim([-0.05, 0.05])\n",
        "# Display the plot\n",
        "plt.show()"
      ]
    },
    {
      "cell_type": "code",
      "execution_count": 36,
      "id": "a593ce52",
      "metadata": {
        "id": "a593ce52"
      },
      "outputs": [],
      "source": [
        "def generate_grid(num):\n",
        "    m = np.arange(-num, num+1)\n",
        "    grid = []\n",
        "    for num1 in m:\n",
        "        for num2 in m:\n",
        "            for num3 in m:\n",
        "                for num4 in m:\n",
        "                    grid.append([num1, num2, num3, num4])\n",
        "    return np.array(grid)\n",
        "\n",
        "def quasi_interpolant(coord, K, D, h):\n",
        "    # Inputs the values of x, y and gives the infinite sum of the series\n",
        "    grid = generate_grid(10)\n",
        "    sum = 0 \n",
        "\n",
        "    for point in grid:\n",
        "      exponent = -np.linalg.norm(coord - h*point)**2/(D*h**2)\n",
        "      sum += (np.matmul(coord, K)) * math.exp(exponent) / (math.pi * D * math.pi * D)\n",
        "    return sum"
      ]
    },
    {
      "cell_type": "code",
      "source": [
        "quasi_interpolant(np_inside_ellipse[3], K, 5, 0.1)"
      ],
      "metadata": {
        "colab": {
          "base_uri": "https://localhost:8080/"
        },
        "id": "0vmnh77lFCy6",
        "outputId": "f62370a0-2d29-444c-bd99-3842b08b11c5"
      },
      "id": "0vmnh77lFCy6",
      "execution_count": 37,
      "outputs": [
        {
          "output_type": "execute_result",
          "data": {
            "text/plain": [
              "array([0.01852612])"
            ]
          },
          "metadata": {},
          "execution_count": 37
        }
      ]
    },
    {
      "cell_type": "code",
      "source": [
        "actual_feedback = (np.matmul(np_inside_ellipse, K))\n"
      ],
      "metadata": {
        "id": "pv8ms69f99Rt"
      },
      "id": "pv8ms69f99Rt",
      "execution_count": 44,
      "outputs": []
    },
    {
      "cell_type": "code",
      "source": [
        "!mkdir Backup"
      ],
      "metadata": {
        "id": "xwQjWZG3F9Eh",
        "colab": {
          "base_uri": "https://localhost:8080/"
        },
        "outputId": "66ce8227-fa92-46e5-e145-a957bdd07919"
      },
      "id": "xwQjWZG3F9Eh",
      "execution_count": 39,
      "outputs": [
        {
          "output_type": "stream",
          "name": "stdout",
          "text": [
            "mkdir: cannot create directory ‘Backup’: File exists\n"
          ]
        }
      ]
    },
    {
      "cell_type": "code",
      "source": [
        "quasi_feedback = np.array([quasi_interpolant(np_inside_ellipse[0], K, 5, 0.1)])\n",
        "for i, coord in enumerate(np_inside_ellipse[1:]):\n",
        "  quasi_feedback = np.vstack([quasi_feedback, quasi_interpolant(coord, K, 5, 0.1)])\n",
        "  file_name = \"/content/Backup\" + str(i+2) + \".txt\"\n",
        "  np.savetxt(file_name, quasi_feedback)"
      ],
      "metadata": {
        "id": "bfJnRwWBAbsR"
      },
      "id": "bfJnRwWBAbsR",
      "execution_count": 42,
      "outputs": []
    },
    {
      "cell_type": "code",
      "source": [
        "print(quasi_feedback)"
      ],
      "metadata": {
        "colab": {
          "base_uri": "https://localhost:8080/"
        },
        "id": "VF3Cgsrd--oe",
        "outputId": "075591c9-d51b-4cce-8ef1-c17bafb2a01e"
      },
      "id": "VF3Cgsrd--oe",
      "execution_count": 43,
      "outputs": [
        {
          "output_type": "stream",
          "name": "stdout",
          "text": [
            "[[-1.88575510e-02]\n",
            " [ 1.51440816e-02]\n",
            " [-1.54755101e-02]\n",
            " [ 1.85261224e-02]\n",
            " [ 1.03587755e-02]\n",
            " [-6.54734673e-03]\n",
            " [-2.02608163e-02]\n",
            " [-3.71669388e-02]\n",
            " [-5.40730612e-02]\n",
            " [ 3.06469388e-02]\n",
            " [ 1.37408163e-02]\n",
            " [-3.16530611e-03]\n",
            " [-2.00714279e-02]\n",
            " [ 2.73469388e-05]\n",
            " [-1.68787755e-02]\n",
            " [-3.37848980e-02]\n",
            " [-5.06910204e-02]\n",
            " [ 3.40289796e-02]\n",
            " [ 1.71228571e-02]\n",
            " [ 2.16734694e-04]\n",
            " [-1.66893877e-02]\n",
            " [ 3.40938774e-03]\n",
            " [-1.34967347e-02]\n",
            " [-3.04028571e-02]\n",
            " [-4.73089796e-02]\n",
            " [ 3.74110204e-02]\n",
            " [ 2.05048980e-02]\n",
            " [ 3.59877551e-03]\n",
            " [-1.33073469e-02]\n",
            " [ 6.79142835e-03]\n",
            " [-1.01146938e-02]\n",
            " [-2.70208163e-02]\n",
            " [-4.39269388e-02]\n",
            " [ 4.07930612e-02]\n",
            " [ 2.38869388e-02]\n",
            " [ 6.98081633e-03]\n",
            " [-9.92530612e-03]\n",
            " [ 1.01734676e-02]\n",
            " [-6.73265285e-03]\n",
            " [-2.36387754e-02]\n",
            " [ 4.41751019e-02]\n",
            " [ 2.72689796e-02]\n",
            " [ 1.03628571e-02]\n",
            " [ 1.35554983e-02]\n",
            " [-3.35061166e-03]\n",
            " [-2.02567340e-02]\n",
            " [ 4.75571422e-02]\n",
            " [ 3.06510203e-02]\n",
            " [-4.56857063e-03]\n",
            " [-2.14746751e-02]\n",
            " [-1.82820408e-02]\n",
            " [-3.51881633e-02]\n",
            " [-5.20942856e-02]\n",
            " [ 1.57195918e-02]\n",
            " [-1.18653057e-03]\n",
            " [-1.80926499e-02]\n",
            " [ 2.00612245e-03]\n",
            " [-1.49000000e-02]\n",
            " [-3.18061224e-02]\n",
            " [-4.87122449e-02]\n",
            " [ 3.60077551e-02]\n",
            " [-6.56183672e-02]\n",
            " [ 1.91016326e-02]\n",
            " [ 2.19551019e-03]\n",
            " [-1.47106118e-02]\n",
            " [-3.16167291e-02]\n",
            " [ 3.61971285e-02]\n",
            " [ 5.38816326e-03]\n",
            " [-1.15179592e-02]\n",
            " [-2.84240816e-02]\n",
            " [-4.53302041e-02]\n",
            " [ 3.93897959e-02]\n",
            " [-6.22363265e-02]\n",
            " [ 2.24836735e-02]\n",
            " [ 5.57755102e-03]\n",
            " [-1.13285714e-02]\n",
            " [-2.82346930e-02]\n",
            " [ 5.64853054e-02]\n",
            " [ 3.95791807e-02]\n",
            " [-4.21375478e-02]\n",
            " [-5.90436727e-02]\n",
            " [ 8.77020403e-03]\n",
            " [-8.13591836e-03]\n",
            " [-2.50420408e-02]\n",
            " [ 5.96779592e-02]\n",
            " [-4.19481633e-02]\n",
            " [ 4.27718367e-02]\n",
            " [-5.88542857e-02]\n",
            " [ 2.58657143e-02]\n",
            " [ 8.95959184e-03]\n",
            " [-7.94653061e-03]\n",
            " [-2.48526529e-02]\n",
            " [ 5.98673468e-02]\n",
            " [ 4.29612239e-02]\n",
            " [-3.87554948e-02]\n",
            " [-5.56616284e-02]\n",
            " [ 2.90583623e-02]\n",
            " [ 1.21522445e-02]\n",
            " [-4.75387753e-03]\n",
            " [-2.16600000e-02]\n",
            " [ 6.30599999e-02]\n",
            " [-3.85661224e-02]\n",
            " [ 4.61538775e-02]\n",
            " [ 2.92477551e-02]\n",
            " [ 1.23416327e-02]\n",
            " [-4.56448980e-03]\n",
            " [-3.53734025e-02]\n",
            " [ 3.24403797e-02]\n",
            " [ 1.55342830e-02]\n",
            " [-1.37183669e-03]\n",
            " [-1.82779591e-02]\n",
            " [ 6.64420399e-02]\n",
            " [-3.51840816e-02]\n",
            " [ 4.95359183e-02]\n",
            " [ 3.26297959e-02]\n",
            " [ 1.57236735e-02]\n",
            " [-1.18244898e-03]\n",
            " [ 1.89163100e-02]\n",
            " [ 2.01020373e-03]\n",
            " [-1.48959179e-02]\n",
            " [-3.18020406e-02]\n",
            " [ 5.29179585e-02]\n",
            " [ 3.60118367e-02]\n",
            " [ 1.91057143e-02]\n",
            " [ 2.22982785e-02]\n",
            " [ 5.39224017e-03]\n",
            " [-1.15138755e-02]\n",
            " [ 5.62999957e-02]\n",
            " [ 3.93938770e-02]\n",
            " [-3.32093877e-02]\n",
            " [-5.01155095e-02]\n",
            " [ 1.76983668e-02]\n",
            " [ 7.92244759e-04]\n",
            " [-1.61138634e-02]\n",
            " [-3.30198684e-02]\n",
            " [-1.29212245e-02]\n",
            " [-2.98273469e-02]\n",
            " [-4.67334693e-02]\n",
            " [-6.36395910e-02]\n",
            " [ 2.10804081e-02]\n",
            " [ 4.17428558e-03]\n",
            " [-1.27318345e-02]\n",
            " [-2.96379332e-02]\n",
            " [ 3.81758462e-02]\n",
            " [ 7.36693877e-03]\n",
            " [-9.53918367e-03]\n",
            " [-2.64453061e-02]\n",
            " [-4.33514286e-02]\n",
            " [ 4.13685714e-02]\n",
            " [-6.02575509e-02]\n",
            " [ 2.44624490e-02]\n",
            " [ 7.55632649e-03]\n",
            " [-9.34979562e-03]\n",
            " [-2.62559138e-02]\n",
            " [ 5.84640772e-02]\n",
            " [ 4.15579427e-02]\n",
            " [ 2.46517901e-02]\n",
            " [-5.70648978e-02]\n",
            " [ 1.07489796e-02]\n",
            " [-6.15714286e-03]\n",
            " [-2.30632653e-02]\n",
            " [-3.99693878e-02]\n",
            " [ 4.47506122e-02]\n",
            " [-5.68755102e-02]\n",
            " [ 2.78444898e-02]\n",
            " [ 1.09383673e-02]\n",
            " [-5.96775507e-03]\n",
            " [-2.28738768e-02]\n",
            " [ 6.18461216e-02]\n",
            " [ 4.49399966e-02]\n",
            " [ 2.80338664e-02]\n",
            " [-3.67767319e-02]\n",
            " [-5.36828564e-02]\n",
            " [-7.05889794e-02]\n",
            " [ 1.41310203e-02]\n",
            " [-2.77510204e-03]\n",
            " [-1.96812245e-02]\n",
            " [-3.65873469e-02]\n",
            " [ 4.81326531e-02]\n",
            " [-5.34934694e-02]\n",
            " [ 3.12265306e-02]\n",
            " [ 1.43204082e-02]\n",
            " [-2.58571428e-03]\n",
            " [-1.94918366e-02]\n",
            " [ 6.52281631e-02]\n",
            " [ 4.83220402e-02]\n",
            " [ 3.14159160e-02]\n",
            " [-3.33946806e-02]\n",
            " [-5.03008125e-02]\n",
            " [ 3.44191776e-02]\n",
            " [-6.72069379e-02]\n",
            " [ 1.75130607e-02]\n",
            " [ 6.06938772e-04]\n",
            " [-1.62991837e-02]\n",
            " [ 6.84208162e-02]\n",
            " [-3.32053061e-02]\n",
            " [ 5.15146939e-02]\n",
            " [-5.01114286e-02]\n",
            " [ 3.46085714e-02]\n",
            " [ 1.77024490e-02]\n",
            " [ 7.96326530e-04]\n",
            " [-1.61097959e-02]\n",
            " [ 6.86102041e-02]\n",
            " [ 5.17040815e-02]\n",
            " [-3.00125963e-02]\n",
            " [-4.69187569e-02]\n",
            " [ 3.78011914e-02]\n",
            " [ 2.08950984e-02]\n",
            " [ 3.98897946e-03]\n",
            " [-1.29171428e-02]\n",
            " [-2.98232653e-02]\n",
            " [ 5.48967346e-02]\n",
            " [-4.67293877e-02]\n",
            " [ 3.79906122e-02]\n",
            " [ 2.10844898e-02]\n",
            " [ 4.17836735e-03]\n",
            " [-1.27277551e-02]\n",
            " [-2.66303937e-02]\n",
            " [ 2.42771216e-02]\n",
            " [ 7.37101912e-03]\n",
            " [-9.53510174e-03]\n",
            " [-2.64412243e-02]\n",
            " [ 5.82787747e-02]\n",
            " [ 4.13726530e-02]\n",
            " [ 2.44665306e-02]\n",
            " [ 7.56040816e-03]\n",
            " [ 2.76590734e-02]\n",
            " [ 1.07530518e-02]\n",
            " [-6.15306015e-03]\n",
            " [ 6.16608117e-02]\n",
            " [ 4.47546933e-02]\n",
            " [ 2.78485714e-02]\n",
            " [ 1.41350457e-02]\n",
            " [-1.41350457e-02]\n",
            " [-2.78485714e-02]\n",
            " [-4.47546933e-02]\n",
            " [-6.16608117e-02]\n",
            " [ 6.15306015e-03]\n",
            " [-1.07530518e-02]\n",
            " [-2.76590734e-02]\n",
            " [-7.56040816e-03]\n",
            " [-2.44665306e-02]\n",
            " [-4.13726530e-02]\n",
            " [-5.82787747e-02]\n",
            " [ 2.64412243e-02]\n",
            " [ 9.53510174e-03]\n",
            " [-7.37101912e-03]\n",
            " [-2.42771216e-02]\n",
            " [ 2.66303937e-02]\n",
            " [ 1.27277551e-02]\n",
            " [-4.17836735e-03]\n",
            " [-2.10844898e-02]\n",
            " [-3.79906122e-02]\n",
            " [ 4.67293877e-02]\n",
            " [-5.48967346e-02]\n",
            " [ 2.98232653e-02]\n",
            " [ 1.29171428e-02]\n",
            " [-3.98897946e-03]\n",
            " [-2.08950984e-02]\n",
            " [-3.78011914e-02]\n",
            " [ 4.69187569e-02]\n",
            " [ 3.00125963e-02]\n",
            " [-5.17040815e-02]\n",
            " [-6.86102041e-02]\n",
            " [ 1.61097959e-02]\n",
            " [-7.96326530e-04]\n",
            " [-1.77024490e-02]\n",
            " [-3.46085714e-02]\n",
            " [ 5.01114286e-02]\n",
            " [-5.15146939e-02]\n",
            " [ 3.32053061e-02]\n",
            " [-6.84208162e-02]\n",
            " [ 1.62991837e-02]\n",
            " [-6.06938772e-04]\n",
            " [-1.75130607e-02]\n",
            " [ 6.72069379e-02]\n",
            " [-3.44191776e-02]\n",
            " [ 5.03008125e-02]\n",
            " [ 3.33946806e-02]\n",
            " [-3.14159160e-02]\n",
            " [-4.83220402e-02]\n",
            " [-6.52281631e-02]\n",
            " [ 1.94918366e-02]\n",
            " [ 2.58571428e-03]\n",
            " [-1.43204082e-02]\n",
            " [-3.12265306e-02]\n",
            " [ 5.34934694e-02]\n",
            " [-4.81326531e-02]\n",
            " [ 3.65873469e-02]\n",
            " [ 1.96812245e-02]\n",
            " [ 2.77510204e-03]\n",
            " [-1.41310203e-02]\n",
            " [ 7.05889794e-02]\n",
            " [ 5.36828564e-02]\n",
            " [ 3.67767319e-02]\n",
            " [-2.80338664e-02]\n",
            " [-4.49399966e-02]\n",
            " [-6.18461216e-02]\n",
            " [ 2.28738768e-02]\n",
            " [ 5.96775507e-03]\n",
            " [-1.09383673e-02]\n",
            " [-2.78444898e-02]\n",
            " [ 5.68755102e-02]\n",
            " [-4.47506122e-02]\n",
            " [ 3.99693878e-02]\n",
            " [ 2.30632653e-02]\n",
            " [ 6.15714286e-03]\n",
            " [-1.07489796e-02]\n",
            " [ 5.70648978e-02]\n",
            " [-2.46517901e-02]\n",
            " [-4.15579427e-02]\n",
            " [-5.84640772e-02]\n",
            " [ 2.62559138e-02]\n",
            " [ 9.34979562e-03]\n",
            " [-7.55632649e-03]\n",
            " [-2.44624490e-02]\n",
            " [ 6.02575509e-02]\n",
            " [-4.13685714e-02]\n",
            " [ 4.33514286e-02]\n",
            " [ 2.64453061e-02]\n",
            " [ 9.53918367e-03]\n",
            " [-7.36693877e-03]\n",
            " [-3.81758462e-02]\n",
            " [ 2.96379332e-02]\n",
            " [ 1.27318345e-02]\n",
            " [-4.17428558e-03]\n",
            " [-2.10804081e-02]\n",
            " [ 6.36395910e-02]\n",
            " [ 4.67334693e-02]\n",
            " [ 2.98273469e-02]\n",
            " [ 1.29212245e-02]\n",
            " [ 3.30198684e-02]\n",
            " [ 1.61138634e-02]\n",
            " [-7.92244759e-04]\n",
            " [-1.76983668e-02]\n",
            " [ 5.01155095e-02]\n",
            " [ 3.32093877e-02]\n",
            " [-3.93938770e-02]\n",
            " [-5.62999957e-02]\n",
            " [ 1.15138755e-02]\n",
            " [-5.39224017e-03]\n",
            " [-2.22982785e-02]\n",
            " [-1.91057143e-02]\n",
            " [-3.60118367e-02]\n",
            " [-5.29179585e-02]\n",
            " [ 3.18020406e-02]\n",
            " [ 1.48959179e-02]\n",
            " [-2.01020373e-03]\n",
            " [-1.89163100e-02]\n",
            " [ 1.18244898e-03]\n",
            " [-1.57236735e-02]\n",
            " [-3.26297959e-02]\n",
            " [-4.95359183e-02]\n",
            " [ 3.51840816e-02]\n",
            " [-6.64420399e-02]\n",
            " [ 1.82779591e-02]\n",
            " [ 1.37183669e-03]\n",
            " [-1.55342830e-02]\n",
            " [-3.24403797e-02]\n",
            " [ 3.53734025e-02]\n",
            " [ 4.56448980e-03]\n",
            " [-1.23416327e-02]\n",
            " [-2.92477551e-02]\n",
            " [-4.61538775e-02]\n",
            " [ 3.85661224e-02]\n",
            " [-6.30599999e-02]\n",
            " [ 2.16600000e-02]\n",
            " [ 4.75387753e-03]\n",
            " [-1.21522445e-02]\n",
            " [-2.90583623e-02]\n",
            " [ 5.56616284e-02]\n",
            " [ 3.87554948e-02]\n",
            " [-4.29612239e-02]\n",
            " [-5.98673468e-02]\n",
            " [ 2.48526529e-02]\n",
            " [ 7.94653061e-03]\n",
            " [-8.95959184e-03]\n",
            " [-2.58657143e-02]\n",
            " [ 5.88542857e-02]\n",
            " [-4.27718367e-02]\n",
            " [ 4.19481633e-02]\n",
            " [-5.96779592e-02]\n",
            " [ 2.50420408e-02]\n",
            " [ 8.13591836e-03]\n",
            " [-8.77020403e-03]\n",
            " [ 5.90436727e-02]\n",
            " [ 4.21375478e-02]\n",
            " [-3.95791807e-02]\n",
            " [-5.64853054e-02]\n",
            " [ 2.82346930e-02]\n",
            " [ 1.13285714e-02]\n",
            " [-5.57755102e-03]\n",
            " [-2.24836735e-02]\n",
            " [ 6.22363265e-02]\n",
            " [-3.93897959e-02]\n",
            " [ 4.53302041e-02]\n",
            " [ 2.84240816e-02]\n",
            " [ 1.15179592e-02]\n",
            " [-5.38816326e-03]\n",
            " [-3.61971285e-02]\n",
            " [ 3.16167291e-02]\n",
            " [ 1.47106118e-02]\n",
            " [-2.19551019e-03]\n",
            " [-1.91016326e-02]\n",
            " [ 6.56183672e-02]\n",
            " [-3.60077551e-02]\n",
            " [ 4.87122449e-02]\n",
            " [ 3.18061224e-02]\n",
            " [ 1.49000000e-02]\n",
            " [-2.00612245e-03]\n",
            " [ 1.80926499e-02]\n",
            " [ 1.18653057e-03]\n",
            " [-1.57195918e-02]\n",
            " [ 5.20942856e-02]\n",
            " [ 3.51881633e-02]\n",
            " [ 1.82820408e-02]\n",
            " [ 2.14746751e-02]\n",
            " [ 4.56857063e-03]\n",
            " [-3.06510203e-02]\n",
            " [-4.75571422e-02]\n",
            " [ 2.02567340e-02]\n",
            " [ 3.35061166e-03]\n",
            " [-1.35554983e-02]\n",
            " [-1.03628571e-02]\n",
            " [-2.72689796e-02]\n",
            " [-4.41751019e-02]\n",
            " [ 2.36387754e-02]\n",
            " [ 6.73265285e-03]\n",
            " [-1.01734676e-02]\n",
            " [ 9.92530612e-03]\n",
            " [-6.98081633e-03]\n",
            " [-2.38869388e-02]\n",
            " [-4.07930612e-02]\n",
            " [ 4.39269388e-02]\n",
            " [ 2.70208163e-02]\n",
            " [ 1.01146938e-02]\n",
            " [-6.79142835e-03]\n",
            " [ 1.33073469e-02]\n",
            " [-3.59877551e-03]\n",
            " [-2.05048980e-02]\n",
            " [-3.74110204e-02]\n",
            " [ 4.73089796e-02]\n",
            " [ 3.04028571e-02]\n",
            " [ 1.34967347e-02]\n",
            " [-3.40938774e-03]\n",
            " [ 1.66893877e-02]\n",
            " [-2.16734694e-04]\n",
            " [-1.71228571e-02]\n",
            " [-3.40289796e-02]\n",
            " [ 5.06910204e-02]\n",
            " [ 3.37848980e-02]\n",
            " [ 1.68787755e-02]\n",
            " [-2.73469388e-05]\n",
            " [ 2.00714279e-02]\n",
            " [ 3.16530611e-03]\n",
            " [-1.37408163e-02]\n",
            " [-3.06469388e-02]\n",
            " [ 5.40730612e-02]\n",
            " [ 3.71669388e-02]\n",
            " [ 2.02608163e-02]\n",
            " [ 6.54734673e-03]\n",
            " [-1.03587755e-02]\n",
            " [-1.85261224e-02]\n",
            " [ 1.54755101e-02]\n",
            " [-1.51440816e-02]\n",
            " [ 1.88575510e-02]]\n"
          ]
        }
      ]
    },
    {
      "cell_type": "code",
      "source": [
        "print(quasi_feedback.shape)\n",
        "print(actual_feedback.shape)"
      ],
      "metadata": {
        "id": "u1lU-a9p_1ZO",
        "colab": {
          "base_uri": "https://localhost:8080/"
        },
        "outputId": "6ab87434-b408-44dc-d60a-ba4dfc7dbbb3"
      },
      "id": "u1lU-a9p_1ZO",
      "execution_count": 45,
      "outputs": [
        {
          "output_type": "stream",
          "name": "stdout",
          "text": [
            "(466, 1)\n",
            "(466, 1)\n"
          ]
        }
      ]
    },
    {
      "cell_type": "code",
      "source": [
        "np.savetxt(\"4d_quasi_feedback.txt\", quasi_feedback)"
      ],
      "metadata": {
        "id": "Cs32ueSJO8fa"
      },
      "id": "Cs32ueSJO8fa",
      "execution_count": 47,
      "outputs": []
    },
    {
      "cell_type": "code",
      "source": [],
      "metadata": {
        "id": "IorQZ2LsPfli"
      },
      "id": "IorQZ2LsPfli",
      "execution_count": null,
      "outputs": []
    }
  ],
  "metadata": {
    "kernelspec": {
      "display_name": "Python 3 (ipykernel)",
      "language": "python",
      "name": "python3"
    },
    "language_info": {
      "codemirror_mode": {
        "name": "ipython",
        "version": 3
      },
      "file_extension": ".py",
      "mimetype": "text/x-python",
      "name": "python",
      "nbconvert_exporter": "python",
      "pygments_lexer": "ipython3",
      "version": "3.9.12"
    },
    "colab": {
      "provenance": []
    }
  },
  "nbformat": 4,
  "nbformat_minor": 5
}