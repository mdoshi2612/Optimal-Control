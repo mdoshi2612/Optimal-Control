{
 "cells": [
  {
   "cell_type": "code",
   "execution_count": 12,
   "id": "9a8accaf",
   "metadata": {},
   "outputs": [],
   "source": [
    "%matplotlib inline\n",
    "from mpl_toolkits import mplot3d\n",
    "import numpy as np\n",
    "import matplotlib.pyplot as plt\n",
    "import math \n",
    "from scipy import misc"
   ]
  },
  {
   "cell_type": "code",
   "execution_count": 13,
   "id": "e9785805",
   "metadata": {},
   "outputs": [],
   "source": [
    "def series_sum(D,h, lower_bound, upper_bound):\n",
    "    values = np.linspace(lower_bound, upper_bound, 100)\n",
    "    interpolant = np.zeros(shape = 100)\n",
    "    i = 0\n",
    "    for x in values:\n",
    "        sum = 0\n",
    "        for m in range(-10000, 10001):\n",
    "            exponent = -((x-m*h)*(x-m*h))/(D*h*h)\n",
    "            sum += 1/math.sqrt(math.pi*D) * math.sin(m*h) * math.exp(exponent)\n",
    "        interpolant[i] = sum\n",
    "        i += 1\n",
    "    return values, interpolant "
   ]
  },
  {
   "cell_type": "code",
   "execution_count": 14,
   "id": "8626311f",
   "metadata": {},
   "outputs": [
    {
     "data": {
      "image/png": "[encoded data removed]",
      "text/plain": [
       "<Figure size 540x252 with 1 Axes>"
      ]
     },
     "metadata": {
      "needs_background": "light"
     },
     "output_type": "display_data"
    }
   ],
   "source": [
    "plt.rcParams[\"figure.figsize\"] = [7.50, 3.50]\n",
    "plt.rcParams[\"figure.autolayout\"] = True\n",
    "\n",
    "def f(x):\n",
    "   return np.sin(x)\n",
    "\n",
    "x = np.linspace(-math.pi, math.pi, 100)\n",
    "\n",
    "plt.grid()\n",
    "values, interpolant = series_sum(5, 0.1, -math.pi, math.pi)\n",
    "plt.plot(values, interpolant, color = 'blue', label = 'Interpolated graph')\n",
    "plt.plot(x, f(x), color = 'red', label = 'Actual Function')\n",
    "plt.plot(x, f(x) - interpolant, color = 'green', label = 'error')\n",
    "plt.legend()\n",
    "plt.show()"
   ]
  },
  {
   "cell_type": "code",
   "execution_count": 15,
   "id": "b500334d",
   "metadata": {},
   "outputs": [],
   "source": [
    "def quasi_interpolant(x,y, D, h):\n",
    "    # Inputs the values of x, y and gives the infinite sum of the series\n",
    "    sum = 0\n",
    "    for m1 in range(-100, 101):\n",
    "        for m2 in range(-100, 101):\n",
    "            exponent = -((x-m1*h)**2+(y-m2*h)**2)/(D*h**2)\n",
    "            sum += 1/(math.pi * D) * (1.464*m1*h+5.90*m2*h) * math.exp(exponent)\n",
    "    return sum"
   ]
  },
  {
   "cell_type": "code",
   "execution_count": 16,
   "id": "38d7c4b9",
   "metadata": {},
   "outputs": [],
   "source": [
    "X = np.linspace(-4, 4, 200)\n",
    "Y = np.linspace(-4, 4, 200)"
   ]
  },
  {
   "cell_type": "code",
   "execution_count": 17,
   "id": "5e7c2adb",
   "metadata": {},
   "outputs": [
    {
     "name": "stdout",
     "output_type": "stream",
     "text": [
      "30816\n"
     ]
    }
   ],
   "source": [
    "coord_rect = []\n",
    "for x in X:\n",
    "    for y in Y:\n",
    "        if (y - 0.692*x + 5 > 0 ) and (y - 0.692*x - 5 < 0) and (-y - x / 0.692 - 6 < 0) and (-y - x / 0.692 + 6 > 0):\n",
    "            coord_rect.append([x, y])\n",
    "print(len(coord_rect))"
   ]
  },
  {
   "cell_type": "code",
   "execution_count": 18,
   "id": "4afb2d48",
   "metadata": {},
   "outputs": [
    {
     "name": "stdout",
     "output_type": "stream",
     "text": [
      "19742\n"
     ]
    }
   ],
   "source": [
    "ellipse_coord = []\n",
    "for x,y in coord_rect:\n",
    "    if(1.7363*x*x + 2*.3660*x*y + 1.4729*y*y < 15.8091):\n",
    "        ellipse_coord.append([x,y])\n",
    "print(len(ellipse_coord))"
   ]
  },
  {
   "cell_type": "code",
   "execution_count": 19,
   "id": "49acbb8e",
   "metadata": {
    "scrolled": false
   },
   "outputs": [
    {
     "data": {
      "image/png": "[encoded data removed]",
      "text/plain": [
       "<Figure size 540x252 with 1 Axes>"
      ]
     },
     "metadata": {
      "needs_background": "light"
     },
     "output_type": "display_data"
    }
   ],
   "source": [
    "np_coord_ellipse = np.array(ellipse_coord)\n",
    "\n",
    "fig = plt.figure()\n",
    "# Set the figure size\n",
    "plt.rcParams[\"figure.figsize\"] = [9.0, 9.0]\n",
    "plt.rcParams[\"figure.autolayout\"] = True\n",
    "\n",
    "# Random data of 100×3 dimension\n",
    "\n",
    "# Scatter plot\n",
    "plt.scatter(np_coord_ellipse[:, 0], np_coord_ellipse[:, 1])\n",
    "\n",
    "# Display the plot\n",
    "plt.show()"
   ]
  },
  {
   "cell_type": "code",
   "execution_count": 20,
   "id": "36913369",
   "metadata": {},
   "outputs": [
    {
     "name": "stdout",
     "output_type": "stream",
     "text": [
      "[[-3.07537688  0.38190955]\n",
      " [-3.07537688  0.42211055]\n",
      " [-3.07537688  0.46231156]\n",
      " ...\n",
      " [ 3.07537688 -0.46231156]\n",
      " [ 3.07537688 -0.42211055]\n",
      " [ 3.07537688 -0.38190955]]\n"
     ]
    }
   ],
   "source": [
    "print(np_coord_ellipse)"
   ]
  },
  {
   "cell_type": "code",
   "execution_count": 21,
   "id": "e63fc102",
   "metadata": {},
   "outputs": [
    {
     "name": "stdout",
     "output_type": "stream",
     "text": [
      "[-2.24908543 -2.0118995  -1.77471357 ...  1.77471357  2.0118995\n",
      "  2.24908543]\n"
     ]
    }
   ],
   "source": [
    "actual_feedback = 1.464*np_coord_ellipse[:, 0] + 5.90*np_coord_ellipse[:, 1]\n",
    "print(actual_feedback)"
   ]
  },
  {
   "cell_type": "code",
   "execution_count": 25,
   "id": "f6cfdbd5",
   "metadata": {},
   "outputs": [],
   "source": [
    "quasi_feedback = np.array([quasi_interpolant(x,y,2, 0.5) for (x,y) in np_coord_ellipse])\n",
    "np.savetxt(\"feedback_2_5e-1.txt\", quasi_feedback)"
   ]
  },
  {
   "cell_type": "code",
   "execution_count": 26,
   "id": "554a49e1",
   "metadata": {},
   "outputs": [
    {
     "name": "stdout",
     "output_type": "stream",
     "text": [
      "2.468167430436097e-07\n",
      "-2.468167430436097e-07\n"
     ]
    }
   ],
   "source": [
    "print(np.max(quasi_feedback - actual_feedback))\n",
    "print(np.min(quasi_feedback - actual_feedback))"
   ]
  },
  {
   "cell_type": "code",
   "execution_count": 27,
   "id": "86d78b17",
   "metadata": {},
   "outputs": [
    {
     "name": "stdout",
     "output_type": "stream",
     "text": [
      "[1.10707977e-07 8.99816812e-08 5.12153813e-08 ... 5.12153824e-08\n",
      " 8.99816839e-08 1.10707978e-07]\n"
     ]
    }
   ],
   "source": [
    "error = np.abs(quasi_feedback - actual_feedback)\n",
    "print(error)"
   ]
  },
  {
   "cell_type": "code",
   "execution_count": null,
   "id": "0b32f1df",
   "metadata": {},
   "outputs": [],
   "source": [
    "fig = plt.figure()\n",
    "ax = plt.axes(projection='3d')\n",
    "\n",
    "# plotting the points\n",
    "ax.scatter3D(np_coord_ellipse[:, 0],np_coord_ellipse[:, 1], error, cmap='Greens');\n",
    "\n",
    "\n",
    "ax.set_xlim3d(-8, 8)\n",
    "ax.set_ylim3d(-8, 8)\n",
    "ax.set_zlim3d(0, 2e-13)\n",
    "\n",
    "plt.show()"
   ]
  },
  {
   "cell_type": "code",
   "execution_count": null,
   "id": "719c5949",
   "metadata": {},
   "outputs": [],
   "source": [
    "print(np_coord_ellipse)"
   ]
  },
  {
   "cell_type": "code",
   "execution_count": null,
   "id": "ebbeb15e",
   "metadata": {},
   "outputs": [],
   "source": [
    "fig = plt.figure()\n",
    "ax = plt.axes(projection='3d')\n",
    "\n",
    "# plotting the points\n",
    "ax.scatter3D(np_coord_ellipse[:, 0],np_coord_ellipse[:, 1], error, cmap='Greens');\n",
    "\n",
    "\n",
    "ax.set_xlim3d(-8, 8)\n",
    "ax.set_ylim3d(-8, 8)\n",
    "ax.set_zlim3d(0, 2e-13)\n",
    "\n",
    "plt.show()"
   ]
  },
  {
   "cell_type": "code",
   "execution_count": null,
   "id": "39eb9ddc",
   "metadata": {},
   "outputs": [],
   "source": [
    "fig = plt.figure()\n",
    "ax = plt.axes(projection='3d')\n",
    "\n",
    "# plotting the points\n",
    "\n",
    "\n",
    "ax.plot_trisurf(np_coord_ellipse[:, 0],np_coord_ellipse[:, 1], error, cmap='viridis', edgecolor='none')\n",
    "\n",
    "\n",
    "ax.set_xlim3d(-4, 4)\n",
    "ax.set_ylim3d(-4, 4)\n",
    "ax.set_zlim3d(0, 2e-13)\n",
    "\n",
    "plt.show()"
   ]
  },
  {
   "cell_type": "code",
   "execution_count": null,
   "id": "49fa798a",
   "metadata": {},
   "outputs": [],
   "source": [
    "print(quasi_feedback.shape)\n",
    "print(np_coord_ellipse.shape)"
   ]
  },
  {
   "cell_type": "code",
   "execution_count": null,
   "id": "5b82e8e4",
   "metadata": {},
   "outputs": [],
   "source": [
    "fig = plt.figure()\n",
    "ax = plt.axes(projection='3d')\n",
    "plt.rcParams['text.usetex'] = False\n",
    "# plotting the points\n",
    "ax.plot_surface(np_coord_ellipse[:, 0],np_coord_ellipse[:, 1], quasi_feedback)\n",
    "\n",
    "\n",
    "ax.set_xlim3d(-4, 4)\n",
    "ax.set_ylim3d(-4, 4)\n",
    "ax.set_zlim3d(0, 2e-13)\n",
    "\n",
    "plt.show()"
   ]
  },
  {
   "cell_type": "code",
   "execution_count": null,
   "id": "59e86f79",
   "metadata": {
    "scrolled": true
   },
   "outputs": [],
   "source": [
    "graph_plot = np.zeros(shape = (100,100))"
   ]
  },
  {
   "cell_type": "code",
   "execution_count": null,
   "id": "bef3aaf8",
   "metadata": {},
   "outputs": [],
   "source": [
    "graph_X = np.linspace(-3,3,100)\n",
    "graph_Y = np.linspace(-0.3, 0.3, 100)"
   ]
  },
  {
   "cell_type": "code",
   "execution_count": null,
   "id": "560513af",
   "metadata": {},
   "outputs": [],
   "source": [
    "i = 0\n",
    "for x in graph_X:\n",
    "    j = 0\n",
    "    for y in graph_Y:\n",
    "        graph_plot[i][j] = quasi_interpolant(x,y,5, 0.1)\n",
    "        j += 1\n",
    "    i += 1"
   ]
  },
  {
   "cell_type": "code",
   "execution_count": null,
   "id": "f6be6517",
   "metadata": {},
   "outputs": [],
   "source": [
    "print(graph_plot.shape)\n"
   ]
  },
  {
   "cell_type": "code",
   "execution_count": null,
   "id": "253b9ba3",
   "metadata": {
    "scrolled": true
   },
   "outputs": [],
   "source": [
    "fig = plt.figure()\n",
    "ax = plt.axes(projection='3d')\n",
    "plt.rcParams[\"figure.figsize\"] = [4.0, 4.0]\n",
    "# plotting the points\n",
    "ax.plot_trisurf(np_coord_ellipse[:, 0],np_coord_ellipse[:, 1], quasi_feedback, cmap='viridis', edgecolor='none')\n",
    "plt.show()"
   ]
  },
  {
   "cell_type": "code",
   "execution_count": null,
   "id": "357bad6c",
   "metadata": {},
   "outputs": [],
   "source": [
    "actual_graph_plot = 1.464*np_coord_ellipse[:, 0] + 5.90*np_coord_ellipse[:, 1]"
   ]
  },
  {
   "cell_type": "code",
   "execution_count": null,
   "id": "fdcf3ce8",
   "metadata": {},
   "outputs": [],
   "source": [
    "fig = plt.figure()\n",
    "ax = plt.axes(projection='3d')\n",
    "plt.rcParams[\"figure.figsize\"] = [4.0, 4.0]\n",
    "# plotting the points\n",
    "ax.plot_trisurf(np_coord_ellipse[:, 0],np_coord_ellipse[:, 1], actual_graph_plot, cmap='viridis', edgecolor='none')\n",
    "plt.show()"
   ]
  },
  {
   "cell_type": "code",
   "execution_count": null,
   "id": "ce3a98ee",
   "metadata": {},
   "outputs": [],
   "source": [
    "plt.savefig('destination_path.eps', format='eps')"
   ]
  },
  {
   "cell_type": "code",
   "execution_count": null,
   "id": "97f3331d",
   "metadata": {},
   "outputs": [],
   "source": [
    "np.savetxt(\"feedback_5_e-1.txt\", quasi_feedback)"
   ]
  },
  {
   "cell_type": "code",
   "execution_count": null,
   "id": "1bf76de9",
   "metadata": {},
   "outputs": [],
   "source": [
    "array = np.loadtxt(\"feedback_5_e-1.txt\")\n",
    "print(quasi_feedback.shape)"
   ]
  },
  {
   "cell_type": "code",
   "execution_count": null,
   "id": "ded5ab89",
   "metadata": {},
   "outputs": [],
   "source": [
    "print((array == quasi_feedback).sum())"
   ]
  },
  {
   "cell_type": "code",
   "execution_count": null,
   "id": "628e5838",
   "metadata": {},
   "outputs": [],
   "source": []
  }
 ],
 "metadata": {
  "kernelspec": {
   "display_name": "Python 3 (ipykernel)",
   "language": "python",
   "name": "python3"
  },
  "language_info": {
   "codemirror_mode": {
    "name": "ipython",
    "version": 3
   },
   "file_extension": ".py",
   "mimetype": "text/x-python",
   "name": "python",
   "nbconvert_exporter": "python",
   "pygments_lexer": "ipython3",
   "version": "3.9.12"
  }
 },
 "nbformat": 4,
 "nbformat_minor": 5
}
