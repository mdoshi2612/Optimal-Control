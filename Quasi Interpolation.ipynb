{
 "cells": [
  {
   "cell_type": "code",
   "execution_count": 1,
   "id": "9a8accaf",
   "metadata": {},
   "outputs": [],
   "source": [
    "import numpy as np\n",
    "import matplotlib.pyplot as plt\n",
    "import math \n",
    "from scipy import misc"
   ]
  },
  {
   "cell_type": "code",
   "execution_count": 19,
   "id": "e9785805",
   "metadata": {},
   "outputs": [],
   "source": [
    "def series_sum(D,h, lower_bound, upper_bound):\n",
    "    values = np.linspace(lower_bound, upper_bound, 100)\n",
    "    interpolant = np.zeros(shape = 100)\n",
    "    i = 0\n",
    "    for x in values:\n",
    "        sum = 0\n",
    "        for m in range(-100000, 100001):\n",
    "            exponent = -((x-m*h)*(x-m*h))/(D*h*h)\n",
    "            sum += 1/math.sqrt(math.pi*D) * math.sin(m*h) * math.exp(exponent)\n",
    "        interpolant[i] = sum\n",
    "        i += 1\n",
    "    return values, interpolant "
   ]
  },
  {
   "cell_type": "code",
   "execution_count": null,
   "id": "f7606893",
   "metadata": {},
   "outputs": [],
   "source": [
    "plt.rcParams[\"figure.figsize\"] = [7.50, 3.50]\n",
    "plt.rcParams[\"figure.autolayout\"] = True\n",
    "\n",
    "def f(x):\n",
    "   return np.sin(x)\n",
    "\n",
    "x = np.linspace(-math.pi, math.pi, 100)\n",
    "\n",
    "plt.grid()\n",
    "values, interpolant = series_sum(5, 0.1, -math.pi, math.pi)\n",
    "plt.plot(values, interpolant, color = 'blue', label = 'Interpolated graph')\n",
    "plt.plot(x, f(x), color = 'red', label = 'Actual Function')\n",
    "plt.plot(x, f(x) - interpolant, color = 'green', label = 'error')\n",
    "plt.legend()\n",
    "plt.show()"
   ]
  },
  {
   "cell_type": "code",
   "execution_count": null,
   "id": "d63ec3f5",
   "metadata": {},
   "outputs": [],
   "source": []
  }
 ],
 "metadata": {
  "kernelspec": {
   "display_name": "Python 3 (ipykernel)",
   "language": "python",
   "name": "python3"
  },
  "language_info": {
   "codemirror_mode": {
    "name": "ipython",
    "version": 3
   },
   "file_extension": ".py",
   "mimetype": "text/x-python",
   "name": "python",
   "nbconvert_exporter": "python",
   "pygments_lexer": "ipython3",
   "version": "3.9.12"
  }
 },
 "nbformat": 4,
 "nbformat_minor": 5
}
